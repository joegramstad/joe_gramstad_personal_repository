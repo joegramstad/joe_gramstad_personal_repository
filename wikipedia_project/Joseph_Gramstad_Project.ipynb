{
 "cells": [
  {
   "cell_type": "code",
   "execution_count": 1,
   "id": "a8f3d687",
   "metadata": {},
   "outputs": [],
   "source": [
    "import pandas as pd\n",
    "from sklearn.pipeline import Pipeline\n",
    "from sklearn.feature_extraction.text import CountVectorizer\n",
    "from sklearn.feature_extraction.text import TfidfTransformer\n",
    "from sklearn.tree import DecisionTreeClassifier\n",
    "from sklearn.linear_model import LogisticRegression\n",
    "from sklearn.naive_bayes import MultinomialNB\n",
    "from sklearn.ensemble import RandomForestClassifier\n",
    "from sklearn.svm import SVC\n",
    "from sklearn.neural_network import MLPClassifier\n",
    "from sklearn.model_selection import KFold\n",
    "from sklearn import metrics\n",
    "from sklearn.preprocessing import LabelEncoder"
   ]
  },
  {
   "cell_type": "code",
   "execution_count": 2,
   "id": "1b1b8fd9",
   "metadata": {},
   "outputs": [],
   "source": [
    "comments = pd.read_csv('attack_annotated_comments.tsv', sep = '\\t', index_col = 0)\n",
    "annotations = pd.read_csv('attack_annotations.tsv',  sep = '\\t')"
   ]
  },
  {
   "cell_type": "code",
   "execution_count": 3,
   "id": "020662d9",
   "metadata": {},
   "outputs": [],
   "source": [
    "labels = annotations.groupby('rev_id')['attack'].mean() > 0.5"
   ]
  },
  {
   "cell_type": "code",
   "execution_count": 4,
   "id": "56f7dc90",
   "metadata": {},
   "outputs": [],
   "source": [
    "comments['attack'] = labels"
   ]
  },
  {
   "cell_type": "code",
   "execution_count": 5,
   "id": "577219b9",
   "metadata": {},
   "outputs": [],
   "source": [
    "comments['comment'] = comments['comment'].apply(lambda x: x.replace(\"NEWLINE_TOKEN\", \" \"))\n",
    "comments['comment'] = comments['comment'].apply(lambda x: x.replace(\"TAB_TOKEN\", \" \"))\n",
    "# comments['comment'] = comments['comment'].str.replace('\\s\\s+', ' ')\n",
    "# comments['comment'] = comments['comment'].str.replace('[^\\w\\s.]', '')"
   ]
  },
  {
   "cell_type": "code",
   "execution_count": null,
   "id": "8b41bb14",
   "metadata": {},
   "outputs": [],
   "source": [
    "comments['logged_in'] = comments['logged_in'].apply(lambda x: 1 if x == 'False' else 0)\n",
    "comments['ns'] = comments['ns'].apply(lambda x: 1 if x == 'user' else 0)\n",
    "comments['sample'] = comments['sample'].apply(lambda x: 1 if x == 'blocked' else 0)\n",
    "\n",
    "encode_elements = ['logged_in', 'ns', 'sample']\n",
    "comments['composite'] = comments[encode_elements].sum(axis=1) + 1"
   ]
  },
  {
   "cell_type": "code",
   "execution_count": 6,
   "id": "37c8858e",
   "metadata": {},
   "outputs": [],
   "source": [
    "enc = LabelEncoder()\n",
    "# Create integer values for logged in values\n",
    "# Encode the column values in dataframe\n",
    "encode_elements = ['logged_in', 'ns', 'sample']\n",
    "for elem in encode_elements:\n",
    "    enc.fit(comments[elem])\n",
    "    comments[elem] = enc.transform(comments[elem])"
   ]
  },
  {
   "cell_type": "code",
   "execution_count": null,
   "id": "51e722be",
   "metadata": {},
   "outputs": [],
   "source": [
    "ngram = 1\n",
    "max_features = 10000\n",
    "max_df = 1.0\n",
    "min_df = 1\n",
    "lowercase = True\n",
    "transformer_norm = 'l2'\n",
    "criterion = 'gini'"
   ]
  },
  {
   "cell_type": "code",
   "execution_count": null,
   "id": "f55f0af0",
   "metadata": {},
   "outputs": [],
   "source": [
    "comment_pipe = Pipeline([\n",
    "    ('vect', CountVectorizer(max_features = max_features, ngram_range = (1,ngram), max_df = max_df, min_df = min_df,\n",
    "    lowercase = lowercase)),\n",
    "    ('tfidf', TfidfTransformer(norm = transformer_norm))\n",
    "])"
   ]
  },
  {
   "cell_type": "code",
   "execution_count": null,
   "id": "d15dba80",
   "metadata": {},
   "outputs": [],
   "source": [
    "clf = DecisionTreeClassifier()"
   ]
  },
  {
   "cell_type": "code",
   "execution_count": null,
   "id": "5faa00f5",
   "metadata": {},
   "outputs": [],
   "source": [
    "clf.fit(comments[['logged_in']], comments['attack'])\n",
    "met = metrics.classification_report(comments['attack'], clf.predict(comments[['logged_in']]))\n",
    "print(met)"
   ]
  },
  {
   "cell_type": "code",
   "execution_count": null,
   "id": "e5be1f16",
   "metadata": {},
   "outputs": [],
   "source": [
    "clf = Pipeline([\n",
    "    ('vect', CountVectorizer(max_features = max_features, ngram_range = (1,ngram), max_df = max_df, min_df = min_df,\n",
    "    lowercase = lowercase)),\n",
    "    ('tfidf', TfidfTransformer(norm = transformer_norm)),\n",
    "    ('clf', DecisionTreeClassifier()),\n",
    "])"
   ]
  },
  {
   "cell_type": "code",
   "execution_count": null,
   "id": "d22d31fa",
   "metadata": {},
   "outputs": [],
   "source": [
    "kf = KFold(n_splits=3)\n",
    "for train, test in kf.split(comments):\n",
    "    clf.fit(comments.iloc[train]['comment'], comments.iloc[train]['attack'])\n",
    "    met = metrics.classification_report(comments.iloc[test]['attack'], clf.predict(comments.iloc[test]['comment']), output_dict=True)\n",
    "    confusion = metrics.confusion_matrix(comments.iloc[test]['attack'], clf.predict(comments.iloc[test]['comment']))\n",
    "    df = pd.DataFrame(met).transpose()\n",
    "    with open('results.tsv', 'a') as f:\n",
    "        df.to_csv(f, mode='a', header=f.tell()==0, sep='\\t')"
   ]
  }
 ],
 "metadata": {
  "kernelspec": {
   "display_name": "Python 3 (ipykernel)",
   "language": "python",
   "name": "python3"
  },
  "language_info": {
   "codemirror_mode": {
    "name": "ipython",
    "version": 3
   },
   "file_extension": ".py",
   "mimetype": "text/x-python",
   "name": "python",
   "nbconvert_exporter": "python",
   "pygments_lexer": "ipython3",
   "version": "3.9.7"
  }
 },
 "nbformat": 4,
 "nbformat_minor": 5
}
